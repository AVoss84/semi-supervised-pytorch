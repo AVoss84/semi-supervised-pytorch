{
 "cells": [
  {
   "cell_type": "code",
   "execution_count": 1,
   "metadata": {
    "code_folding": [
     0
    ]
   },
   "outputs": [],
   "source": [
    "# Imports and declarations\n",
    "%matplotlib inline\n",
    "import sys\n",
    "import numpy as np\n",
    "import matplotlib.pyplot as plt\n",
    "plt.style.use(\"ggplot\")\n",
    "plt.rcParams[\"image.cmap\"] = \"binary_r\"\n",
    "sys.path.append(\"../../semi-supervised\")\n",
    "\n",
    "import torch\n",
    "import torch.nn.functional as F\n",
    "from torchvision import datasets, transforms\n",
    "cuda = torch.cuda.is_available()"
   ]
  },
  {
   "cell_type": "markdown",
   "metadata": {},
   "source": [
    "# Deep Generative Model\n",
    "\n",
    "In this notebook we will run the Deep Generative Model as described in (Kingma 2014). The model builds on a standard variational autoencoder by adding label information during the inference. The main gist of the model is that we utilise label information when available, and marginalise over all labels when unavailable.\n",
    "\n",
    "Here we use a limited subset of MNIST to make training faster."
   ]
  },
  {
   "cell_type": "code",
   "execution_count": 2,
   "metadata": {},
   "outputs": [],
   "source": [
    "from data.limitedmnist import LimitedMNIST\n",
    "from utils import generate_label, onehot\n",
    "\n",
    "batch_size = 32\n",
    "\n",
    "labels = [0, 1, 2, 3, 4]\n",
    "n = len(labels)\n",
    "\n",
    "# Load in data\n",
    "mnist_lab = LimitedMNIST('./', train=True, transform=torch.bernoulli, target_transform=onehot(n), digits=labels, fraction=0.005)\n",
    "mnist_ulab = LimitedMNIST('./', train=True, transform=torch.bernoulli, target_transform=onehot(n), digits=labels, fraction=1.0)\n",
    "mnist_val = LimitedMNIST('./', train=False, transform=torch.bernoulli, target_transform=onehot(n), digits=labels)\n",
    "\n",
    "# Unlabelled data\n",
    "unlabelled = torch.utils.data.DataLoader(mnist_ulab, batch_size=100, shuffle=True, num_workers=2)\n",
    "\n",
    "# Validation data\n",
    "validation = torch.utils.data.DataLoader(mnist_val, batch_size=batch_size, shuffle=True, num_workers=2)\n",
    "\n",
    "# Labelled data\n",
    "labelled = torch.utils.data.DataLoader(mnist_lab, batch_size=100, shuffle=True, num_workers=2)"
   ]
  },
  {
   "cell_type": "code",
   "execution_count": 3,
   "metadata": {},
   "outputs": [
    {
     "data": {
      "image/png": "[encoded data removed]",
      "text/plain": [
       "<matplotlib.figure.Figure at 0x11c66aa58>"
      ]
     },
     "metadata": {},
     "output_type": "display_data"
    }
   ],
   "source": [
    "f, axarr = plt.subplots(1, 10, figsize=(10, 2))\n",
    "images, labels = next(iter(labelled))\n",
    "_, labels = torch.max(labels, 1)\n",
    "\n",
    "for i in range(10):\n",
    "    axarr[i].imshow(images[i].numpy().reshape(28, 28))\n",
    "    title = labels[i] if labels[i] < 5 else \"Unknown\"\n",
    "    axarr[i].set_title(title)\n",
    "    axarr[i].axis(\"off\")\n",
    "    \n",
    "f.suptitle(\"Data samples after Bernoulli transform\")\n",
    "plt.show()"
   ]
  },
  {
   "cell_type": "markdown",
   "metadata": {},
   "source": [
    "We instantiate a Deep Generative Model by specifing the ratio between labelled and unlabelled data. We use variational inference to fit data to the model, like for the VAE. In this case, we also have label information so we use `VariationalInferenceWithLabels`. This objective is based on the ELBO objective described in (Kingma 2014).\n",
    "\n",
    "\n",
    "$$\\log p_{\\theta}(x, y) \\geq \\mathbb{E}_{q_{\\phi}(z|x, y)} [ \\log p_{\\theta}(x|y, z) + \\log p_{\\theta}(y) + \\log \\frac{p(z)}{q_{\\phi}(z|x, y)} ] = - \\mathcal{L}(x, y)$$\n",
    "\n",
    "Where the first term in the equation describes the likelihood function. The second can be viewed as a *prior* over the labels $y$, while the third part is just the KL-divergence we have already seen in VAEs. In this example, we choose a `discrete_uniform_prior` over the labels."
   ]
  },
  {
   "cell_type": "code",
   "execution_count": 4,
   "metadata": {},
   "outputs": [
    {
     "data": {
      "text/plain": [
       "DeepGenerativeModel (\n",
       "  (encoder): Encoder (\n",
       "    (hidden): ModuleList (\n",
       "      (0): Linear (128 -> 128)\n",
       "    )\n",
       "    (mu): Linear (128 -> 16)\n",
       "    (log_var): Linear (128 -> 16)\n",
       "  )\n",
       "  (decoder): Decoder (\n",
       "    (hidden): ModuleList (\n",
       "      (0): Linear (16 -> 128)\n",
       "    )\n",
       "    (reconstruction): Linear (128 -> 784)\n",
       "    (output_activation): Sigmoid ()\n",
       "  )\n",
       "  (classifier): Classifier (\n",
       "    (dense): Linear (784 -> 128)\n",
       "    (logits): Linear (128 -> 5)\n",
       "  )\n",
       "  (transform_x_to_h): Linear (784 -> 128)\n",
       "  (transform_y_to_h): Linear (5 -> 128)\n",
       "  (transform_y_to_z): Linear (5 -> 16)\n",
       ")"
      ]
     },
     "execution_count": 4,
     "metadata": {},
     "output_type": "execute_result"
    }
   ],
   "source": [
    "from models.dgm import DeepGenerativeModel\n",
    "from inference.loss import VariationalInferenceWithLabels, kl_divergence_normal, discrete_uniform_prior\n",
    "\n",
    "# Numerical stability\n",
    "epsilon = 1e-7\n",
    "\n",
    "# DGM with a single hidden layer in both the encoder and decoder\n",
    "model = DeepGenerativeModel(ratio=len(mnist_ulab)/len(mnist_lab), dims=[28 * 28, n, 16, [128]])\n",
    "\n",
    "if cuda: model.cuda()\n",
    "\n",
    "def binary_cross_entropy(r, x):\n",
    "    return torch.sum((x * torch.log(r + epsilon) + (1 - x) * torch.log((1 - r) + epsilon)), dim=-1)\n",
    "\n",
    "def cross_entropy(y, logits):\n",
    "    return -torch.sum(y * torch.log(logits + epsilon), dim=1)\n",
    "    \n",
    "objective = VariationalInferenceWithLabels(binary_cross_entropy, kl_divergence_normal, discrete_uniform_prior)\n",
    "optimizer = torch.optim.Adam(model.parameters(), lr=1e-4)\n",
    "\n",
    "model"
   ]
  },
  {
   "cell_type": "markdown",
   "metadata": {},
   "source": [
    "Training the model is a bit more complicated than for the standard VAE. We need to define two different cases based on whether the incoming data has labels or not. We use the definition for the ELBO given in the previous equation:\n",
    "\n",
    "$$- \\mathcal{L}(x, y) = \\mathbb{E}_{q_{\\phi}(z|x, y)} [ \\log p_{\\theta}(x|y, z) + \\log p_{\\theta}(y) + \\log \\frac{p(z)}{q_{\\phi}(z|x, y)} ]$$\n",
    "\n",
    "If labels are given, we calculate the ELBO along with the cross entropy.\n",
    "\n",
    "$$\\mathcal{L}(x, y) + \\alpha \\cdot \\mathbb{E}_{\\tilde{p}_l(x, y)}[- \\log q_{\\phi}(y|x)]$$\n",
    "\n",
    "However, if no labels are given, we must instead sum over all of the labels. In order to keep the equations balanced, we are required to calculate the entropy.\n",
    "\n",
    "$$\\sum_y q_{\\phi}(y|x)(- \\mathcal{L}(x, y)) + \\mathcal{H}(q_{\\phi}(y|x)) = -\\mathcal{U}(x)$$"
   ]
  },
  {
   "cell_type": "code",
   "execution_count": 9,
   "metadata": {},
   "outputs": [],
   "source": [
    "class DGMTrainer():\n",
    "    \"\"\"\n",
    "    Class for training Deep Generative Models.\n",
    "    :param model: Object of class `DeepGenerativeModel`\n",
    "    :param objective: Loss function for labelled data, e.g. `VariationalInferenceWithLabels`\n",
    "    :param optimizer: A PyTorch-enabled optimizer\n",
    "    :param cuda: Optional parameter whether to use CUDA acceleration\n",
    "    \"\"\"\n",
    "    def __init__(self, model, objective, optimizer, cuda=False):\n",
    "        self.model = model\n",
    "        self.objective = objective\n",
    "        self.optimizer = optimizer\n",
    "        self.cuda = cuda\n",
    "\n",
    "    def calculate_loss(self, x, y=None):\n",
    "        \"\"\"\n",
    "        Given a semi-supervised problem (x, y) pair where y\n",
    "        is only occasionally observed, calculates the\n",
    "        associated loss.\n",
    "        :param x: Features\n",
    "        :param y: Labels (optional)\n",
    "        :returns L_alpha if labelled, U if unlabelled.\n",
    "        \"\"\"\n",
    "        is_unlabelled = True if y is None else False\n",
    "\n",
    "        x = Variable(x)\n",
    "        logits = self.model.classifier(x)\n",
    "\n",
    "        # If the data is unlabelled, sum over all classes\n",
    "        if is_unlabelled:\n",
    "            [batch_size, *_] = x.size()\n",
    "            x = x.repeat(n, 1)\n",
    "            y = torch.cat([generate_label(batch_size, i, n) for i in range(n)])\n",
    "\n",
    "        y = Variable(y.type(torch.FloatTensor))\n",
    "        \n",
    "        if self.cuda:\n",
    "            x = x.cuda()\n",
    "            y = y.cuda()\n",
    "\n",
    "        # Compute lower bound (the same as -L)\n",
    "        reconstruction, _, (z, z_mu, z_log_var) = self.model(x, y)\n",
    "        ELBO = self.objective(reconstruction, x, y, z_mu, z_log_var)\n",
    "\n",
    "        # In the unlabelled case calculate the entropy H and return U\n",
    "        if is_unlabelled:\n",
    "            ELBO = ELBO.view(logits.size())\n",
    "            loss = torch.sum(torch.mul(logits, ELBO - torch.log(logits)), -1)\n",
    "            loss = -torch.mean(loss)\n",
    "        # In the case of labels add cross entropy and return L_alpha\n",
    "        else:\n",
    "            loss = ELBO + self.model.beta * -cross_entropy(y, logits)\n",
    "            loss = -torch.mean(loss)\n",
    "\n",
    "        return loss\n",
    "    \n",
    "    def train(self, labelled, unlabelled):\n",
    "        \"\"\"\n",
    "        Trains a DGM model based on some data.\n",
    "        :param labelled: Labelled data loader\n",
    "        :param inlabelled: Unlabelled data loader\n",
    "        :return L, U: Final loss values.\n",
    "        \"\"\"\n",
    "        for (x, y), (u, _) in zip(labelled, unlabelled):\n",
    "            L = self.calculate_loss(x, y)\n",
    "            U = self.calculate_loss(u, None)\n",
    "\n",
    "            J = L + U\n",
    "\n",
    "            J.backward()\n",
    "            self.optimizer.step()\n",
    "            self.optimizer.zero_grad()\n",
    "            \n",
    "        return L, U"
   ]
  },
  {
   "cell_type": "markdown",
   "metadata": {},
   "source": [
    "## Visualisation\n",
    "\n",
    "Here you can optionally enable the use of `visdom` to visualise the training process."
   ]
  },
  {
   "cell_type": "code",
   "execution_count": 7,
   "metadata": {},
   "outputs": [],
   "source": [
    "use_visdom = True\n",
    "\n",
    "if use_visdom:\n",
    "    import visdom\n",
    "    vis = visdom.Visdom()\n",
    "\n",
    "class Visualiser():\n",
    "    def __init__(self):\n",
    "        self.loss = vis.line(X=np.array([0]), Y=np.array([0]), opts=dict(title=\"Training Loss\", xlabel=\"Epoch\"))\n",
    "        self.acc  = vis.line(X=np.array([0]), Y=np.array([0]), opts=dict(title=\"Accuracy\", xlabel=\"Epoch\"))\n",
    "\n",
    "    def update_loss(self, L, U):\n",
    "        vis.updateTrace(X=np.array([epoch]), Y=L.data.numpy(), win=self.loss, name=\"Labelled\")\n",
    "        vis.updateTrace(X=np.array([epoch]), Y=U.data.numpy(), win=self.loss, name=\"Unlabelled\")\n",
    "        \n",
    "    def update_accuracy(self, model):\n",
    "        accuracy = []\n",
    "        for x, y in validation:\n",
    "            _, prediction = torch.max(model.classifier(Variable(x)), 1)\n",
    "            _, y = torch.max(y, 1)\n",
    "\n",
    "            accuracy += [torch.mean((prediction.data == y).float())]\n",
    "\n",
    "        vis.updateTrace(X=np.array([epoch]), Y=np.array([np.mean(accuracy)]), win=self.acc)\n",
    "        \n",
    "    def update_images(self, model):\n",
    "        x, y = next(iter(validation))\n",
    "        input = Variable(x[:5])\n",
    "        label = Variable(y[:5].type(torch.FloatTensor))\n",
    "        x_hat, *_ = model(input, label)\n",
    "        images = x_hat.data.numpy().reshape(-1, 1, 28, 28)\n",
    "\n",
    "        vis.images(images, opts=dict(width=5*64, height=64, caption=\"Sample epoch {}\".format(epoch)))"
   ]
  },
  {
   "cell_type": "markdown",
   "metadata": {},
   "source": [
    "Controlling which dataloaders to use, we gather the losses into a single combined loss that we can backpropagate.\n",
    "\n",
    "$$\\mathcal{J}^{\\alpha} = \\mathcal{L}^{\\alpha} + \\mathcal{U}$$"
   ]
  },
  {
   "cell_type": "code",
   "execution_count": 10,
   "metadata": {},
   "outputs": [],
   "source": [
    "from torch.autograd import Variable\n",
    "\n",
    "trainer = DGMTrainer(model, objective, optimizer)\n",
    "visual = Visualiser()\n",
    "\n",
    "for epoch in range(1000):\n",
    "    L, U = trainer.train(labelled, unlabelled)\n",
    "        \n",
    "    if use_visdom:\n",
    "        # Plot the last L and U of the epoch\n",
    "        visual.update_loss(L, U)\n",
    "        visual.update_accuracy(model)\n",
    "\n",
    "        if epoch % 10 == 0:\n",
    "            visual.update_images(model)"
   ]
  },
  {
   "cell_type": "markdown",
   "metadata": {},
   "source": [
    "After performing training, your plots should look something like this:\n",
    "    \n",
    "![](../images/visdom-dgm.png)"
   ]
  },
  {
   "cell_type": "code",
   "execution_count": null,
   "metadata": {},
   "outputs": [],
   "source": []
  }
 ],
 "metadata": {
  "kernelspec": {
   "display_name": "Python 3",
   "language": "python",
   "name": "python3"
  },
  "language_info": {
   "codemirror_mode": {
    "name": "ipython",
    "version": 3
   },
   "file_extension": ".py",
   "mimetype": "text/x-python",
   "name": "python",
   "nbconvert_exporter": "python",
   "pygments_lexer": "ipython3",
   "version": "3.5.0"
  }
 },
 "nbformat": 4,
 "nbformat_minor": 1
}
