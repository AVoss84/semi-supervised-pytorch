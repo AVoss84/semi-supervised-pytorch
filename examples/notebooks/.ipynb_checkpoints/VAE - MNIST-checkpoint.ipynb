{
 "cells": [
  {
   "cell_type": "code",
   "execution_count": 22,
   "metadata": {
    "code_folding": [
     0
    ]
   },
   "outputs": [
    {
     "data": {
      "text/html": [
       "\n",
       "<style>\n",
       ".output_png {\n",
       "    display: table-cell;\n",
       "    text-align: center;\n",
       "    vertical-align: middle;\n",
       "}\n",
       "</style>\n"
      ],
      "text/plain": [
       "<IPython.core.display.HTML object>"
      ]
     },
     "execution_count": 22,
     "metadata": {},
     "output_type": "execute_result"
    }
   ],
   "source": [
    "# Imports and declarations\n",
    "%matplotlib inline\n",
    "import numpy as np\n",
    "import matplotlib.pyplot as plt\n",
    "plt.style.use(\"ggplot\")\n",
    "plt.rcParams[\"image.cmap\"] = \"binary_r\"\n",
    "import sys\n",
    "sys.path.append(\"../../semi-supervised\")\n",
    "\n",
    "import torch\n",
    "import torch.nn.functional as F\n",
    "from torchvision import datasets, transforms\n",
    "cuda = torch.cuda.is_available()\n",
    "\n",
    "from IPython.core.display import HTML\n",
    "HTML(\"\"\"\n",
    "<style>\n",
    ".output_png {\n",
    "    display: table-cell;\n",
    "    text-align: center;\n",
    "    vertical-align: middle;\n",
    "}\n",
    "</style>\n",
    "\"\"\")"
   ]
  },
  {
   "cell_type": "markdown",
   "metadata": {},
   "source": [
    "# Variational AutoEncoder\n",
    "\n",
    "This notebook shows how to use a Variational AutoEncoder to model the data distribution over MNIST-digits $p(x)$. We will then learn a latent distribution $q_{\\theta}(z \\mid x)$ based on the digits. The M1 model in (Kingma 2014) describes the semi-supervised classifier as mapping latent representations to their label using a classifier."
   ]
  },
  {
   "cell_type": "code",
   "execution_count": 10,
   "metadata": {},
   "outputs": [],
   "source": [
    "flatten_bernoulli = lambda img: transforms.ToTensor()(img).view(-1).bernoulli()\n",
    "\n",
    "mnist = datasets.MNIST('./', train=True, download=True, transform=flatten_bernoulli)\n",
    "mnist_val = datasets.MNIST('./', train=False, download=True, transform=flatten_bernoulli)\n",
    "\n",
    "unlabelled = torch.utils.data.DataLoader(mnist, batch_size=100, shuffle=True, num_workers=2)\n",
    "validation = torch.utils.data.DataLoader(mnist_val, batch_size=100, shuffle=True, num_workers=2)"
   ]
  },
  {
   "cell_type": "code",
   "execution_count": 23,
   "metadata": {},
   "outputs": [
    {
     "data": {
      "image/png": "[encoded data removed]",
      "text/plain": [
       "<matplotlib.figure.Figure at 0x12ca88710>"
      ]
     },
     "metadata": {},
     "output_type": "display_data"
    }
   ],
   "source": [
    "f, axarr = plt.subplots(1, 10, figsize=(10, 2))\n",
    "images, labels = next(iter(unlabelled))\n",
    "\n",
    "for i in range(10):\n",
    "    axarr[i].imshow(images[i].numpy().reshape(28, 28))\n",
    "    axarr[i].set_title(labels[i])\n",
    "    axarr[i].axis(\"off\")\n",
    "    \n",
    "f.suptitle(\"Data samples after Bernoulli transform\")\n",
    "plt.show()"
   ]
  },
  {
   "cell_type": "markdown",
   "metadata": {},
   "source": [
    "The variational autoencoder is defined in terms of its input dimensionality along with the dimensionality of the latent space. In this example we have exactly one hidden layer both the encoder and decoder with 128 neurons. In order to train the model, we use variational inference by fitting a variational distribution $q(z | X)$ to the encoder. The full objective is given by: \n",
    "\n",
    "$${\\mathcal {L}}(\\phi,\\theta, X) = D_{KL}(q_{\\phi}( z | X ) \\ || \\ p(z))-\\mathbb {E}_{q_{\\phi }(z |X )}\\log p_{\\theta }(X | z )$$\n",
    "\n",
    "Where $\\phi$ and $\\theta$ are parameters of the encoder and decoder network respectively. The objective means that we want to make maximise the models ability to recreate the input given a learned latent representation $x$ while keeping $q(z | X)$ similar to some known distribution.\n",
    "\n",
    "For this problem we choose $q(z | X)$ to be similar to a standard normal distribution by using `kl_divergence_normal` and we measure the pixelwise binary cross entropy as our likelihood function. This leads to the model and loss function as below."
   ]
  },
  {
   "cell_type": "code",
   "execution_count": 13,
   "metadata": {},
   "outputs": [
    {
     "data": {
      "text/plain": [
       "VariationalAutoencoder (\n",
       "  (encoder): Encoder (\n",
       "    (hidden): ModuleList (\n",
       "      (0): Linear (784 -> 128)\n",
       "    )\n",
       "    (mu): Linear (128 -> 32)\n",
       "    (log_var): Linear (128 -> 32)\n",
       "  )\n",
       "  (decoder): Decoder (\n",
       "    (hidden): ModuleList (\n",
       "      (0): Linear (32 -> 128)\n",
       "    )\n",
       "    (reconstruction): Linear (128 -> 784)\n",
       "    (output_activation): Sigmoid ()\n",
       "  )\n",
       ")"
      ]
     },
     "execution_count": 13,
     "metadata": {},
     "output_type": "execute_result"
    }
   ],
   "source": [
    "from models.vae import VariationalAutoencoder\n",
    "from inference.loss import VariationalInference, kl_divergence_normal\n",
    "\n",
    "model = VariationalAutoencoder([28*28, 32, [128]])\n",
    "\n",
    "if cuda: model = model.cuda()\n",
    "\n",
    "def binary_cross_entropy(r, x):\n",
    "    return F.binary_cross_entropy(r, x, size_average=False)\n",
    "    \n",
    "objective = VariationalInference(binary_cross_entropy, kl_divergence_normal)\n",
    "optimizer = torch.optim.Adam(model.parameters(), lr=3e-5)\n",
    "\n",
    "model"
   ]
  },
  {
   "cell_type": "code",
   "execution_count": 14,
   "metadata": {},
   "outputs": [
    {
     "name": "stdout",
     "output_type": "stream",
     "text": [
      "Epoch: 0 loss: 27040.676\n",
      "Epoch: 5 loss: 18902.938\n",
      "Epoch: 10 loss: 16547.492\n",
      "Epoch: 15 loss: 15040.252\n",
      "Epoch: 20 loss: 14514.845\n",
      "Epoch: 25 loss: 14359.819\n",
      "Epoch: 30 loss: 14866.107\n",
      "Epoch: 35 loss: 13494.111\n",
      "Epoch: 40 loss: 12870.421\n",
      "Epoch: 45 loss: 12731.500\n"
     ]
    }
   ],
   "source": [
    "from torch.autograd import Variable\n",
    "\n",
    "for epoch in range(50):\n",
    "    for u, _ in unlabelled:\n",
    "        u = Variable(u)\n",
    "\n",
    "        if cuda: u = u.cuda()\n",
    "\n",
    "        reconstruction, (_, z_mu, z_log_var) = model(u)\n",
    "        # Equation 3\n",
    "        L = objective(reconstruction, u, z_mu, z_log_var)\n",
    "\n",
    "        L.backward()\n",
    "        optimizer.step()\n",
    "        optimizer.zero_grad()\n",
    "\n",
    "    if epoch % 5 == 0:\n",
    "        l = L.data[0]\n",
    "        print(\"Epoch: {0:} loss: {1:.3f}\".format(epoch, l))"
   ]
  },
  {
   "cell_type": "markdown",
   "metadata": {},
   "source": [
    "## Classification\n",
    "\n",
    "Now that we have constructed a distribution $p(z | x)$ and are able to transform our data $x$ into latent representation $z$, we can perform classification. In Kingma 2014, it is suggested to use an SVM. We will instead use a simple multilayer perceptron, which should work as the latent space is of lower dimensionality than the input space."
   ]
  },
  {
   "cell_type": "code",
   "execution_count": 15,
   "metadata": {},
   "outputs": [],
   "source": [
    "import torch.nn as nn\n",
    "\n",
    "classifier = nn.Sequential(\n",
    "    nn.Linear(32, 32),\n",
    "    nn.ReLU(inplace=True),\n",
    "    nn.Linear(32, 10),\n",
    "    nn.Softmax())\n",
    "\n",
    "optimizer = torch.optim.Adam(classifier.parameters(), lr=1e-2)"
   ]
  },
  {
   "cell_type": "code",
   "execution_count": 17,
   "metadata": {},
   "outputs": [
    {
     "name": "stdout",
     "output_type": "stream",
     "text": [
      "Epoch: 0 loss: 1.629, accuracy: 0.881\n",
      "Epoch: 10 loss: 1.578, accuracy: 0.901\n",
      "Epoch: 20 loss: 1.594, accuracy: 0.899\n",
      "Epoch: 30 loss: 1.639, accuracy: 0.903\n",
      "Epoch: 40 loss: 1.563, accuracy: 0.905\n"
     ]
    }
   ],
   "source": [
    "for epoch in range(50):\n",
    "    for x, y in unlabelled:\n",
    "\n",
    "        x = Variable(x)\n",
    "        y = Variable(y)\n",
    "\n",
    "        if cuda:\n",
    "            x = x.cuda()\n",
    "            y = y.cuda()\n",
    "\n",
    "        _, (z, _, _) = model(x)\n",
    "        logits = classifier(z)\n",
    "        loss = F.cross_entropy(logits, y)\n",
    "\n",
    "        loss.backward()\n",
    "        optimizer.step()\n",
    "        optimizer.zero_grad()\n",
    "\n",
    "    if epoch % 10 == 0:\n",
    "        # Check validation accuracy\n",
    "        accuracy = []\n",
    "        for x, y in validation:\n",
    "            _, (z, _, _) = model(Variable(x))\n",
    "            logits = classifier(z)\n",
    "            _, prediction = torch.max(classifier(z), 1)\n",
    "\n",
    "            accuracy += [torch.mean((prediction.data == y).float())]\n",
    "\n",
    "        print(\"Epoch: {0:} loss: {1:.3f}, accuracy: {2:.3f}\".format(epoch, loss.data[0], np.mean(accuracy)))"
   ]
  },
  {
   "cell_type": "markdown",
   "metadata": {},
   "source": [
    "We get around 90% accuracy from just running it for a few epochs. It is expected as we get more unsupervised data, the model will perform better. However, being an extremely simple model, we can never achieve great performance."
   ]
  },
  {
   "cell_type": "code",
   "execution_count": null,
   "metadata": {
    "collapsed": true
   },
   "outputs": [],
   "source": []
  }
 ],
 "metadata": {
  "anaconda-cloud": {},
  "kernelspec": {
   "display_name": "Python 3",
   "language": "python",
   "name": "python3"
  },
  "language_info": {
   "codemirror_mode": {
    "name": "ipython",
    "version": 3
   },
   "file_extension": ".py",
   "mimetype": "text/x-python",
   "name": "python",
   "nbconvert_exporter": "python",
   "pygments_lexer": "ipython3",
   "version": "3.5.0"
  }
 },
 "nbformat": 4,
 "nbformat_minor": 1
}
